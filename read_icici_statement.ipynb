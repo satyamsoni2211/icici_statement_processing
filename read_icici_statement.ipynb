{
 "cells": [
  {
   "cell_type": "code",
   "execution_count": 7,
   "metadata": {},
   "outputs": [],
   "source": [
    "from tabula import wrapper"
   ]
  },
  {
   "cell_type": "code",
   "execution_count": 15,
   "metadata": {},
   "outputs": [],
   "source": [
    "import pandas as pd\n",
    "import numpy as np\n",
    "import re"
   ]
  },
  {
   "cell_type": "code",
   "execution_count": 76,
   "metadata": {},
   "outputs": [],
   "source": [
    "df = wrapper.read_pdf('OpTransactionHistory04-08-2019.pdf',pages='all')\n",
    "columns = [re.sub('\\r.*|\\(.*','',i).rstrip().rstrip('.').replace(' ','_') for i in df.iloc[0].values]\n",
    "df = df.iloc[1:,:]\n",
    "df.columns = columns\n",
    "df.dropna(subset=['Value_Date','Transaction_Date'],inplace=True)\n",
    "df.drop(columns=['S_No'],inplace=True)\n",
    "df['Type'] = df.apply(lambda sr: 'Cr' if sr['Withdrawal_Amount'] == 0 else 'Dr',axis=1)\n",
    "df.Transaction_Date = pd.to_datetime(df.Transaction_Date,format='%d/%m/%Y')\n",
    "df.Value_Date = pd.to_datetime(df.Value_Date,format='%d/%m/%Y')\n",
    "df.Withdrawal_Amount = df.Withdrawal_Amount.astype(np.float64)\n",
    "df.Deposit_Amount = df.Deposit_Amount.astype(np.float64)\n",
    "df.Balance = df.Balance.astype(np.float64)\n",
    "df.ransaction_Remarks = df.ransaction_Remarks.str.replace('\\r','')\n",
    "df.reset_index(drop=True,inplace=True)"
   ]
  },
  {
   "cell_type": "code",
   "execution_count": 77,
   "metadata": {},
   "outputs": [],
   "source": [
    "df.to_csv('July_report.csv',index=False)"
   ]
  }
 ],
 "metadata": {
  "kernelspec": {
   "display_name": "Python 3",
   "language": "python",
   "name": "python3"
  },
  "language_info": {
   "codemirror_mode": {
    "name": "ipython",
    "version": 3
   },
   "file_extension": ".py",
   "mimetype": "text/x-python",
   "name": "python",
   "nbconvert_exporter": "python",
   "pygments_lexer": "ipython3",
   "version": "3.7.3"
  }
 },
 "nbformat": 4,
 "nbformat_minor": 2
}
